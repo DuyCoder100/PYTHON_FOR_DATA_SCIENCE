{
 "cells": [
  {
   "cell_type": "markdown",
   "id": "1fa84f33-137f-4b48-8374-4d840461e134",
   "metadata": {},
   "source": [
    "# Table of contents"
   ]
  },
  {
   "cell_type": "markdown",
   "id": "60e6e878-2402-4ce0-8f00-4207578ca3d3",
   "metadata": {},
   "source": [
    "##\n",
    "![green-divider](https://user-images.githubusercontent.com/7065401/52071924-c003ad80-2562-11e9-8297-1c6595f8a7ff.png)\n",
    "# Import Library"
   ]
  },
  {
   "cell_type": "code",
   "execution_count": null,
   "id": "53f34a7a-c2f0-4638-9e15-c69592316e31",
   "metadata": {},
   "outputs": [],
   "source": [
    "import os\n",
    "import numpy as np\n",
    "import pandas as pd\n",
    "import matplotlib.pyplot as plt\n",
    "%matplotlib inline\n",
    "import seaborn as sns\n",
    "import joblib\n",
    "import warnings\n",
    "warnings.filterwarnings('ignore')\n",
    "plt.style.use('seaborn')"
   ]
  },
  {
   "cell_type": "markdown",
   "id": "a038aaf7-efcb-45ec-98c9-f3d5fc5b85ce",
   "metadata": {},
   "source": [
    "##\n",
    "![green-divider](https://user-images.githubusercontent.com/7065401/52071924-c003ad80-2562-11e9-8297-1c6595f8a7ff.png)\n",
    "# Loading Data"
   ]
  },
  {
   "cell_type": "code",
   "execution_count": null,
   "id": "3881454e-e230-4b5d-bf06-73c3a332d155",
   "metadata": {},
   "outputs": [],
   "source": [
    "stroke = pd.read_csv('data/healthcare-dataset-stroke-data.csv')"
   ]
  },
  {
   "cell_type": "markdown",
   "id": "35bc1c06-6779-4ba4-800e-ec749acdeb43",
   "metadata": {},
   "source": [
    "##\n",
    "![green-divider](https://user-images.githubusercontent.com/7065401/52071924-c003ad80-2562-11e9-8297-1c6595f8a7ff.png)\n",
    "# 1. Data Preprocessing"
   ]
  },
  {
   "cell_type": "code",
   "execution_count": null,
   "id": "6ed866ce-b196-4c17-b395-52188c839dcf",
   "metadata": {},
   "outputs": [],
   "source": [
    "stroke.info()"
   ]
  },
  {
   "cell_type": "code",
   "execution_count": null,
   "id": "122661ec-3175-440c-9a9b-34c70ba96c0d",
   "metadata": {},
   "outputs": [],
   "source": [
    "stroke.describe(include=\"object\")"
   ]
  },
  {
   "cell_type": "code",
   "execution_count": null,
   "id": "08a1d1a0",
   "metadata": {},
   "outputs": [],
   "source": [
    "stroke['gender'].value_counts()"
   ]
  },
  {
   "cell_type": "markdown",
   "id": "1880dc16-0f7a-4f0b-afa7-1d9875b27df6",
   "metadata": {},
   "source": [
    " *The Age columns have a type float64 that mean inside data have a float number rows*"
   ]
  },
  {
   "cell_type": "code",
   "execution_count": null,
   "id": "993a9a80-bc3e-411a-a44b-7ecbbb5bb4d3",
   "metadata": {},
   "outputs": [],
   "source": [
    "stroke[stroke['age']<2]"
   ]
  },
  {
   "cell_type": "code",
   "execution_count": null,
   "id": "56f07896-b354-4a76-a8e3-82ca2735643b",
   "metadata": {},
   "outputs": [],
   "source": [
    "stroke['age']=stroke['age'].astype(int)\n",
    "stroke['age']=stroke['age'].replace([0],1)\n",
    "stroke[stroke['age']<=9]"
   ]
  },
  {
   "cell_type": "markdown",
   "id": "5592655b-2832-4ac1-89f0-0d942318feb3",
   "metadata": {},
   "source": [
    "  ##### *At the smoking_status columns, from 1 to 9 years old, the data set has the value 'Unknown', So I did a search and statistic that in children under 10, the smoking rate seems to be less than <1%*\n",
    "   > [Children and young people use tobacco](https://www.blackpooljsna.org.uk/Home.aspx)\n",
    "\n"
   ]
  },
  {
   "cell_type": "code",
   "execution_count": null,
   "id": "62ee6147-9b82-4ecc-83b9-10be62c25d27",
   "metadata": {},
   "outputs": [],
   "source": [
    "df=stroke[(stroke['age']<=9) & (stroke['smoking_status']=='Unknown')]\n",
    "df['smoking_status']=df['smoking_status'].replace(['Unknown'],'never smoked')\n",
    "df"
   ]
  },
  {
   "cell_type": "code",
   "execution_count": null,
   "id": "a91a9b1f-e0f3-432a-a6e7-579246f0ca50",
   "metadata": {},
   "outputs": [],
   "source": [
    "df1=stroke[(stroke['age']<=9) & (stroke['smoking_status']!='Unknown')|(stroke['age']>9)]"
   ]
  },
  {
   "cell_type": "code",
   "execution_count": null,
   "id": "4c758dc7-dcd4-45f8-8c09-906a245c8b8f",
   "metadata": {},
   "outputs": [],
   "source": [
    "stroke=pd.concat([df,df1])"
   ]
  },
  {
   "cell_type": "code",
   "execution_count": null,
   "id": "641222e0-103d-4706-a9a7-83eff07355a6",
   "metadata": {},
   "outputs": [],
   "source": [
    "stroke.shape"
   ]
  },
  {
   "cell_type": "code",
   "execution_count": null,
   "id": "ae540047-3f78-4537-a8ed-eb068c096ac5",
   "metadata": {},
   "outputs": [],
   "source": [
    "stroke[stroke['age']==1]"
   ]
  },
  {
   "cell_type": "code",
   "execution_count": null,
   "id": "576d950e-0e51-43f0-879a-7a96840d9128",
   "metadata": {},
   "outputs": [],
   "source": [
    "df = pd.get_dummies(data=df, columns=['smoking_status'])\n",
    "df = pd.get_dummies(data=df, columns=['work_type'])\n",
    "df.head()"
   ]
  },
  {
   "cell_type": "markdown",
   "id": "bc2efe1e-cf00-4bb5-8425-876950be0633",
   "metadata": {},
   "source": [
    "*The column BMI is missing data, so i need to solve this problem*"
   ]
  },
  {
   "cell_type": "code",
   "execution_count": null,
   "id": "f2d495c6-6df9-4c30-99fe-e77f21b45f75",
   "metadata": {},
   "outputs": [],
   "source": [
    "stroke.isnull().sum()"
   ]
  },
  {
   "cell_type": "markdown",
   "id": "0aa00edc-dc76-4cfa-894d-273c0ee54b56",
   "metadata": {},
   "source": [
    "At this data, we have 201/5110 percent for missing data at BMI column. its approximate 4% data, so i think the best way is filling missing values by mean"
   ]
  },
  {
   "cell_type": "code",
   "execution_count": null,
   "id": "271f7c3e-3b48-47e6-a6e2-8fed0e55f108",
   "metadata": {},
   "outputs": [],
   "source": [
    "stroke[stroke['bmi'].isnull()]"
   ]
  },
  {
   "cell_type": "code",
   "execution_count": null,
   "id": "63cb98f3-233b-4794-94b4-e414cf004a02",
   "metadata": {},
   "outputs": [],
   "source": [
    "mean=stroke['bmi'].mean(skipna=True)\n",
    "stroke['bmi']=stroke['bmi'].mask(stroke['bmi'].isnull(),mean)"
   ]
  },
  {
   "cell_type": "code",
   "execution_count": null,
   "id": "ff0c08a9-c7eb-46e6-881f-24fd5619163f",
   "metadata": {},
   "outputs": [],
   "source": [
    "stroke.isnull().sum()"
   ]
  },
  {
   "cell_type": "markdown",
   "id": "edcd3c14-ba49-48c5-b73e-0034ca18a0de",
   "metadata": {},
   "source": [
    "#### Show all unique classes"
   ]
  },
  {
   "cell_type": "code",
   "execution_count": null,
   "id": "df09728a-431b-4d68-988a-1fdec0ce8c46",
   "metadata": {},
   "outputs": [],
   "source": [
    "for col in stroke.columns:\n",
    "    if(stroke.dtypes[col]=='O'):\n",
    "        print('-----------------------\\n',stroke[col].value_counts())"
   ]
  },
  {
   "cell_type": "markdown",
   "id": "fbc9fb2a-277d-4a66-ae91-4a70923d1945",
   "metadata": {},
   "source": [
    "#### Drop the Unsual from the datase"
   ]
  },
  {
   "cell_type": "code",
   "execution_count": null,
   "id": "4d857906-0d9c-4d8a-9121-fefbdc969dfe",
   "metadata": {},
   "outputs": [],
   "source": [
    "stroke=stroke.drop(columns='id',axis=1)"
   ]
  },
  {
   "cell_type": "code",
   "execution_count": null,
   "id": "72d70f21-536c-4356-a1da-f0da87b23746",
   "metadata": {},
   "outputs": [],
   "source": [
    "stroke.drop(stroke.loc[stroke['smoking_status']=='Unknown'].index, inplace=True)\n",
    "stroke.shape"
   ]
  },
  {
   "cell_type": "code",
   "execution_count": null,
   "id": "dfe0d620-fa1a-4fc3-a6f2-0865a0458faf",
   "metadata": {},
   "outputs": [],
   "source": [
    "stroke = stroke[stroke['gender']!='Other']"
   ]
  },
  {
   "cell_type": "code",
   "execution_count": null,
   "id": "8fc508af-e7fb-4f4f-a4a8-9c8b375b096d",
   "metadata": {},
   "outputs": [],
   "source": [
    "stroke=stroke.reset_index(drop=True)"
   ]
  },
  {
   "cell_type": "code",
   "execution_count": null,
   "id": "62536039-c314-4bd4-8f13-be584ecd9c72",
   "metadata": {},
   "outputs": [],
   "source": [
    "stroke_Final=stroke.copy()"
   ]
  },
  {
   "cell_type": "markdown",
   "id": "6827a081-8123-4e50-a845-d35669d886d9",
   "metadata": {},
   "source": [
    "#### Encoding Categorical Features"
   ]
  },
  {
   "cell_type": "code",
   "execution_count": null,
   "id": "9efc1a4e-a1f2-41fd-8838-6309737633da",
   "metadata": {},
   "outputs": [],
   "source": [
    "stroke[\"Residence_type\"] = stroke[\"Residence_type\"].apply(lambda x: 1 if x==\"Urban\" else 0)\n",
    "stroke[\"ever_married\"] = stroke[\"ever_married\"].apply(lambda x: 1 if x==\"Yes\" else 0)\n",
    "stroke[\"gender\"] = stroke[\"gender\"].apply(lambda x: 1 if x==\"Male\" else 0)"
   ]
  },
  {
   "cell_type": "code",
   "execution_count": null,
   "id": "030191bd-bca3-44a7-83d0-d25a9ce21939",
   "metadata": {},
   "outputs": [],
   "source": [
    "stroke = pd.get_dummies(data=stroke, columns=['smoking_status'])\n",
    "stroke = pd.get_dummies(data=stroke, columns=['work_type'])"
   ]
  },
  {
   "cell_type": "code",
   "execution_count": null,
   "id": "a5408968-fc7a-41fe-8c60-242bbf085368",
   "metadata": {},
   "outputs": [],
   "source": [
    "stroke.head()"
   ]
  },
  {
   "cell_type": "code",
   "execution_count": null,
   "id": "f933cae3",
   "metadata": {},
   "outputs": [],
   "source": [
    "stroke_Final.head()"
   ]
  },
  {
   "cell_type": "markdown",
   "id": "92c61278-e5d0-4ef1-8862-3e8286b55105",
   "metadata": {},
   "source": [
    "##\n",
    "![green-divider](https://user-images.githubusercontent.com/7065401/52071924-c003ad80-2562-11e9-8297-1c6595f8a7ff.png)\n",
    "# 2. Visualization"
   ]
  },
  {
   "cell_type": "markdown",
   "id": "5550935e",
   "metadata": {},
   "source": [
    "## Count stroke"
   ]
  },
  {
   "cell_type": "code",
   "execution_count": null,
   "id": "9cc2bee2",
   "metadata": {},
   "outputs": [],
   "source": [
    "df = pd.read_csv('data/healthcare-dataset-stroke-data.csv')\n",
    "df = df[df['gender'] != 'Other']\n",
    "df.rename({'Residence_type': 'residence_type'}, axis=1, inplace=True)\n",
    "mean = df['bmi'].mean(skipna=True)\n",
    "df['bmi']= df['bmi'].mask(df['bmi'].isnull(), mean)\n",
    "df.drop(columns=['id', 'ever_married', 'work_type', 'residence_type', 'smoking_status'], inplace=True)"
   ]
  },
  {
   "cell_type": "code",
   "execution_count": null,
   "id": "e2c28f72",
   "metadata": {},
   "outputs": [],
   "source": [
    "ax = sns.countplot(data=df, x='stroke')\n",
    "[ax.annotate('{:.0f}'.format(p.get_height()), (p.get_x()+0.35, p.get_height()+100)) for p in ax.patches]\n",
    "plt.gca().spines['top'].set_visible(False)\n",
    "plt.gca().spines['right'].set_visible(False)\n",
    "plt.title('Target Class Count plot', fontsize=20)\n",
    "plt.show()"
   ]
  },
  {
   "cell_type": "markdown",
   "id": "b2720e70",
   "metadata": {},
   "source": [
    "## Age Distribution"
   ]
  },
  {
   "cell_type": "code",
   "execution_count": null,
   "id": "b766c272",
   "metadata": {},
   "outputs": [],
   "source": [
    "ax = sns.kdeplot(df['age'], color='lightgray')\n",
    "ax.lines[0].set_color('red')\n",
    "plt.axvline(df['age'].mean(), linestyle='--', lw=4, zorder=1, color='blue')\n",
    "plt.annotate(f' Average Age', (44, 0.008), fontsize=18,color='blue')\n",
    "plt.gca().spines['top'].set_visible(False)\n",
    "plt.gca().spines['right'].set_visible(False)\n",
    "plt.title('Age Distribution plot', fontsize=20)\n",
    "plt.xlabel('Age')\n",
    "plt.show()"
   ]
  },
  {
   "cell_type": "markdown",
   "id": "e2e2d526-3fae-40c3-9a06-d4f61fabf520",
   "metadata": {
    "tags": []
   },
   "source": [
    "### Gender"
   ]
  },
  {
   "cell_type": "code",
   "execution_count": null,
   "id": "7e3e193e-186c-4232-8994-c70437991a42",
   "metadata": {},
   "outputs": [],
   "source": [
    "fig, ax = plt.subplots(figsize = (7,8))\n",
    "labels = [ 'Female','Male']\n",
    "plt.pie(stroke_Final[\"gender\"].value_counts(),autopct='%1.2f%%',labels=labels)\n",
    "plt.title(\"Percentage of All Gender\",fontsize=18,fontweight=\"bold\")\n",
    "fig.set_facecolor('#FFFFCC')\n",
    "plt.legend()\n",
    "plt.show()"
   ]
  },
  {
   "cell_type": "code",
   "execution_count": null,
   "id": "2f9b5c6d-2c02-4f5d-ba55-e4cc35e8cbd7",
   "metadata": {},
   "outputs": [],
   "source": [
    "ax=sns.countplot(x='gender', data=stroke_Final, hue =stroke_Final['stroke'],palette='hls')\n",
    "[ax.annotate('{:.0f}'.format(p.get_height()), (p.get_x()+0.15, p.get_height()+40)) for p in ax.patches]\n",
    "plt.title(\"The Gender With Stroke\",fontsize=18,fontweight=\"bold\")\n",
    "plt.ylabel('Number of persons',fontsize=15)\n",
    "plt.legend(['No Stroke','Has Stroke'],title='Stroke')"
   ]
  },
  {
   "cell_type": "markdown",
   "id": "6094e510-d7d9-4cad-9de5-b7623ff0f062",
   "metadata": {
    "tags": []
   },
   "source": [
    "### BOXPLOT with three feature AGE, BMI , AVG_GLUTCOSE_LEVEL"
   ]
  },
  {
   "cell_type": "code",
   "execution_count": null,
   "id": "79ec3bfd-77d3-41e0-a1f3-a6b007621caf",
   "metadata": {},
   "outputs": [],
   "source": [
    "Have_stroke=stroke_Final[stroke_Final['stroke']==1]\n",
    "Non_stroke=stroke_Final[stroke_Final['stroke']==0]"
   ]
  },
  {
   "cell_type": "code",
   "execution_count": null,
   "id": "c96e8e9c-2dd1-4861-a14e-c6753dda40b4",
   "metadata": {},
   "outputs": [],
   "source": [
    "stroke_Final[\"index\"]= range(1, len(stroke_Final) + 1)\n",
    "Have_stroke[\"index\"]= range(1, len(Have_stroke) + 1)\n",
    "Non_stroke[\"index\"]= range(1, len(Non_stroke) + 1)"
   ]
  },
  {
   "cell_type": "markdown",
   "id": "d318eb66-b0e7-4711-adee-905dd1e8d2b6",
   "metadata": {
    "tags": []
   },
   "source": [
    "##### *Three features when has a stroke*"
   ]
  },
  {
   "cell_type": "code",
   "execution_count": null,
   "id": "544417ef-3f13-4dfb-ad3e-e7390dc2005a",
   "metadata": {},
   "outputs": [],
   "source": [
    "col=['age','avg_glucose_level','bmi']\n",
    "plt.figure(figsize=(10,6), facecolor='w')\n",
    "sns.boxplot(data=stroke_Final[stroke_Final['stroke']==1][col])\n",
    "plt.show()"
   ]
  },
  {
   "cell_type": "markdown",
   "id": "64526454-2827-410b-8a2f-76ad3b858074",
   "metadata": {},
   "source": [
    "##### *Three features when there is no a stroke*"
   ]
  },
  {
   "cell_type": "code",
   "execution_count": null,
   "id": "0e47a080-6e29-4c4f-a277-bf9a62cd1ba9",
   "metadata": {},
   "outputs": [],
   "source": [
    "col=['age','avg_glucose_level','bmi']\n",
    "plt.figure(figsize=(7,5), facecolor='w')\n",
    "sns.boxplot(data=stroke_Final[stroke_Final['stroke']==0][col], showmeans=True)\n",
    "plt.show()"
   ]
  },
  {
   "cell_type": "markdown",
   "id": "b516973c-0a48-4238-93a8-cbc820cbf14b",
   "metadata": {
    "tags": []
   },
   "source": [
    "### Hypertension"
   ]
  },
  {
   "cell_type": "code",
   "execution_count": null,
   "id": "4b2cbd7b-bddf-43d6-bc05-e9141ef8498f",
   "metadata": {},
   "outputs": [],
   "source": [
    "labels = ['No Hypertension', 'Has Hypertension']\n",
    "fig, ax = plt.subplots(figsize = (7,8))\n",
    "plt.pie(stroke_Final[\"hypertension\"].value_counts(),autopct='%1.2f%%',labels=labels)\n",
    "plt.title(\"Percentage of All hypertension\",fontsize=18,fontweight=\"bold\")\n",
    "fig.set_facecolor('#FFFFCC')\n",
    "plt.legend()\n",
    "plt.show()"
   ]
  },
  {
   "cell_type": "code",
   "execution_count": null,
   "id": "ac944590-2291-48a5-b22f-a88d030c4413",
   "metadata": {},
   "outputs": [],
   "source": [
    "Object={0:\"No Hypertension\",1:\"Has Hypertension\"}\n",
    "stroke_Final[\"Has_No_Hypertension\"]=stroke_Final['hypertension']\n",
    "stroke_Final['Has_No_Hypertension']=stroke_Final['Has_No_Hypertension'].map(Object)\n",
    "ax=sns.countplot(x='Has_No_Hypertension', data=stroke_Final, hue =stroke_Final['stroke'],palette='hls')\n",
    "[ax.annotate('{:.0f}'.format(p.get_height()), (p.get_x()+0.15, p.get_height()+40)) for p in ax.patches]\n",
    "plt.ylabel('Number of persons',fontsize=15)\n",
    "plt.legend(['No Stroke','Has Stroke'],title='Stroke')\n",
    "plt.show()"
   ]
  },
  {
   "cell_type": "markdown",
   "id": "7e0e4b0f-62fe-4cc7-b555-7a5a4ef4c827",
   "metadata": {
    "tags": []
   },
   "source": [
    "### Heart_disease"
   ]
  },
  {
   "cell_type": "code",
   "execution_count": null,
   "id": "1e3d4546-b4a3-4183-9790-14f65a544ef2",
   "metadata": {},
   "outputs": [],
   "source": [
    "labels = ['No Heart disease', 'Has Heart disease']\n",
    "fig, ax = plt.subplots(figsize = (7,8))\n",
    "plt.pie(stroke_Final[\"heart_disease\"].value_counts(),autopct='%1.2f%%', labels=labels)\n",
    "plt.title(\"Percentage of All Heart disease\",fontsize=18,fontweight=\"bold\")\n",
    "fig.set_facecolor('#FFFFCC')\n",
    "plt.legend()\n",
    "plt.show()"
   ]
  },
  {
   "cell_type": "code",
   "execution_count": null,
   "id": "f6b1b676-ba14-4430-85df-9a46376b65e1",
   "metadata": {},
   "outputs": [],
   "source": [
    "Object={0:\"No Heart disease\",1:\"Has Heart disease\"}\n",
    "stroke_Final[\"Has_No_Heart_disease\"]=stroke_Final['heart_disease']\n",
    "stroke_Final['Has_No_Heart_disease']=stroke_Final['Has_No_Heart_disease'].map(Object)\n",
    "ax=sns.countplot(x='Has_No_Heart_disease', data=stroke_Final, hue =stroke_Final['stroke'],palette='hls')\n",
    "[ax.annotate('{:.0f}'.format(p.get_height()), (p.get_x()+0.15, p.get_height()+40)) for p in ax.patches]\n",
    "plt.ylabel('Number of persons',fontsize=15)\n",
    "plt.legend(['No Stroke','Has Stroke'],title='Stroke')\n",
    "plt.show()"
   ]
  },
  {
   "cell_type": "markdown",
   "id": "5dae272f-e10b-4c80-a9d2-d0a7aefc1143",
   "metadata": {
    "tags": []
   },
   "source": [
    "### Ever married"
   ]
  },
  {
   "cell_type": "code",
   "execution_count": null,
   "id": "94e918b2-6b00-495c-b97d-18da9c4fb4c5",
   "metadata": {},
   "outputs": [],
   "source": [
    "labels = ['No', 'Yes']\n",
    "fig, ax = plt.subplots(figsize = (7,8))\n",
    "plt.pie(stroke_Final[\"ever_married\"].value_counts(),autopct='%1.2f%%',labels=labels)\n",
    "plt.title(\"Percent of all marriages\",fontsize=18,fontweight=\"bold\")\n",
    "fig.set_facecolor('#FFFFCC')\n",
    "plt.legend()\n",
    "plt.show()"
   ]
  },
  {
   "cell_type": "code",
   "execution_count": null,
   "id": "244e21e4-ada6-4ada-bc34-9ad3fb207072",
   "metadata": {},
   "outputs": [],
   "source": [
    "ax=sns.countplot(x='ever_married', data=stroke_Final, hue =stroke_Final['stroke'],palette='hls')\n",
    "[ax.annotate('{:.0f}'.format(p.get_height()), (p.get_x()+0.15, p.get_height()+40)) for p in ax.patches]\n",
    "plt.ylabel('Number of persons',fontsize=15)\n",
    "plt.legend(['No Stroke','Has Stroke'],title='Stroke')\n",
    "plt.show()"
   ]
  },
  {
   "cell_type": "markdown",
   "id": "deb00752-ef2a-4f7b-8706-ba2405fdf08a",
   "metadata": {
    "tags": []
   },
   "source": [
    "### Work type"
   ]
  },
  {
   "cell_type": "code",
   "execution_count": null,
   "id": "0c95c174-7101-42b4-8d65-197677cba67f",
   "metadata": {},
   "outputs": [],
   "source": [
    "labels = ['Private', 'Self-employed', 'Govt job', 'Children','Never Worked']\n",
    "fig, ax = plt.subplots(figsize = (7,8))\n",
    "plt.pie(stroke_Final[\"work_type\"].value_counts(),labels=labels, autopct='%1.1f%%')\n",
    "plt.title(\"Percent of all Work type\",fontsize=18,fontweight=\"bold\")\n",
    "fig.set_facecolor('#FFFFCC')\n",
    "plt.legend()\n",
    "plt.show()"
   ]
  },
  {
   "cell_type": "code",
   "execution_count": null,
   "id": "a8b47b7a-ddd3-4071-9aa5-7d89fa261149",
   "metadata": {},
   "outputs": [],
   "source": [
    "ax=sns.countplot(x='work_type', data=stroke_Final, hue =stroke_Final['stroke'],palette='hls')\n",
    "[ax.annotate('{:.0f}'.format(p.get_height()), (p.get_x()+0.1, p.get_height()+40)) for p in ax.patches]\n",
    "plt.ylabel('Number of persons',fontsize=15)\n",
    "plt.show()"
   ]
  },
  {
   "cell_type": "markdown",
   "id": "dacdd887-9a2c-42d1-b489-4d9f07c06484",
   "metadata": {
    "tags": []
   },
   "source": [
    "### Residence_type"
   ]
  },
  {
   "cell_type": "code",
   "execution_count": null,
   "id": "99df13cd-87a2-4d8b-a787-17cf511a7a5d",
   "metadata": {},
   "outputs": [],
   "source": [
    "labels = ['Urban', 'Rural']\n",
    "fig, ax = plt.subplots(figsize = (7,8))\n",
    "plt.pie(stroke_Final[\"Residence_type\"].value_counts(),autopct='%1.2f%%', labels=labels)\n",
    "plt.title(\"Percent of all Area\",fontsize=18,fontweight=\"bold\")\n",
    "fig.set_facecolor('#FFFFCC')\n",
    "plt.legend()\n",
    "plt.show()"
   ]
  },
  {
   "cell_type": "code",
   "execution_count": null,
   "id": "6acfa845-4a8f-4626-b568-37af730206e0",
   "metadata": {},
   "outputs": [],
   "source": [
    "ax=sns.countplot(x='Residence_type', data=stroke_Final, hue =stroke_Final['stroke'],palette='hls')\n",
    "[ax.annotate('{:.0f}'.format(p.get_height()), (p.get_x()+0.15, p.get_height()+40)) for p in ax.patches]\n",
    "plt.ylabel('Number of persons',fontsize=15)\n",
    "plt.legend(['No Stroke','Has Stroke'],title='Stroke')\n",
    "plt.show()"
   ]
  },
  {
   "cell_type": "markdown",
   "id": "413a0182-0077-4d8e-86c9-2459085b3f73",
   "metadata": {
    "tags": []
   },
   "source": [
    "### Smoking_status"
   ]
  },
  {
   "cell_type": "code",
   "execution_count": null,
   "id": "d34bc1a6-4b6f-4325-90cd-ee8536d86606",
   "metadata": {},
   "outputs": [],
   "source": [
    "labels = ['never smoked', 'formerly smoked', 'smokes']\n",
    "fig, ax = plt.subplots(figsize = (7,8))\n",
    "plt.pie(stroke_Final[\"smoking_status\"].value_counts(),labels=labels, autopct='%1.1f%%')\n",
    "plt.title(\"Percent of all Smoking status\",fontsize=18,fontweight=\"bold\")\n",
    "fig.set_facecolor('#FFFFCC')\n",
    "plt.legend()\n",
    "plt.show()"
   ]
  },
  {
   "cell_type": "code",
   "execution_count": null,
   "id": "42e7445f-786d-4b24-9686-756451c9f686",
   "metadata": {},
   "outputs": [],
   "source": [
    "ax=sns.countplot(x='smoking_status', data=stroke_Final, hue =stroke_Final['stroke'],palette='hls')\n",
    "[ax.annotate('{:.0f}'.format(p.get_height()), (p.get_x()+0.15, p.get_height()+40)) for p in ax.patches]\n",
    "plt.ylabel('Number of persons',fontsize=15)\n",
    "plt.legend(['No Stroke','Has Stroke'],title='Stroke')\n",
    "plt.show()"
   ]
  },
  {
   "cell_type": "markdown",
   "id": "53b9b612",
   "metadata": {},
   "source": [
    "## Average Glucose Level Distribution"
   ]
  },
  {
   "cell_type": "code",
   "execution_count": null,
   "id": "10a82b4f",
   "metadata": {},
   "outputs": [],
   "source": [
    "ax = sns.histplot(data=df, x= df['avg_glucose_level'], kde=True,hue=df['stroke'], alpha=0.2)\n",
    "plt.axvline(df['avg_glucose_level'].mean(), linestyle='--', lw=2, zorder=1, color='red')\n",
    "plt.annotate(f' Mean Average Glucose Level', (108, 350), fontsize=15,color='red')\n",
    "plt.title('Average Glucose Level Distribution')\n",
    "plt.xlabel('Average Glucose Level')\n",
    "plt.gca().spines['top'].set_visible(False)\n",
    "plt.gca().spines['right'].set_visible(False)\n",
    "plt.show()"
   ]
  },
  {
   "cell_type": "markdown",
   "id": "caa15b24-635d-4714-a4c0-4bf8090ad622",
   "metadata": {
    "tags": []
   },
   "source": [
    "### Correlation Matrix"
   ]
  },
  {
   "cell_type": "code",
   "execution_count": null,
   "id": "37d5abe6-d415-4f5a-bbda-2bb25fe68eac",
   "metadata": {},
   "outputs": [],
   "source": [
    "plt.figure(figsize=(10,7))\n",
    "corrmat = stroke_Final.corr()\n",
    "sns.heatmap(data=corrmat,annot=True, cmap=\"Blues\")"
   ]
  },
  {
   "cell_type": "markdown",
   "id": "54cb696d-c5d7-4a9f-80fa-57e93d4a4f59",
   "metadata": {},
   "source": [
    "##\n",
    "![green-divider](https://user-images.githubusercontent.com/7065401/52071924-c003ad80-2562-11e9-8297-1c6595f8a7ff.png)\n",
    "# 3. Model Building"
   ]
  },
  {
   "cell_type": "code",
   "execution_count": null,
   "id": "1535e6ba",
   "metadata": {},
   "outputs": [],
   "source": [
    "from imblearn.combine import SMOTEENN\n",
    "from imblearn.pipeline import Pipeline\n",
    "from sklearn.compose import ColumnTransformer\n",
    "from sklearn.preprocessing import StandardScaler, OneHotEncoder\n",
    "from sklearn.model_selection import train_test_split\n",
    "from sklearn.linear_model import LogisticRegression\n",
    "from sklearn.tree import DecisionTreeClassifier\n",
    "from sklearn.naive_bayes import GaussianNB\n",
    "from sklearn.ensemble import RandomForestClassifier, GradientBoostingClassifier, StackingClassifier\n",
    "from sklearn.svm import SVC\n",
    "from sklearn.model_selection import GridSearchCV, cross_val_predict\n",
    "from sklearn.neighbors import KNeighborsClassifier\n",
    "from sklearn.pipeline import Pipeline\n",
    "from sklearn import metrics\n",
    "import xgboost as xgb"
   ]
  },
  {
   "cell_type": "markdown",
   "id": "0bd1b1a7-5f64-40b4-95dd-d88e811366c5",
   "metadata": {
    "tags": []
   },
   "source": [
    "### Data Splitting"
   ]
  },
  {
   "cell_type": "code",
   "execution_count": null,
   "id": "581c7b05",
   "metadata": {},
   "outputs": [],
   "source": [
    "df = pd.read_csv('data/healthcare-dataset-stroke-data.csv')\n",
    "df.rename({'Residence_type': 'residence_type'}, axis=1, inplace=True)\n",
    "df_new = df[df['gender'] != 'Other']\n",
    "mean = df_new['bmi'].mean(skipna=True)\n",
    "df_new['bmi']= df_new['bmi'].mask(df_new['bmi'].isnull(), mean)\n",
    "df_new.drop(columns=['id'], inplace=True)"
   ]
  },
  {
   "cell_type": "code",
   "execution_count": null,
   "id": "2fd2d392-cffa-41a5-b4f7-9f1acdbc86bd",
   "metadata": {},
   "outputs": [],
   "source": [
    "X = df_new.drop('stroke', axis=1)\n",
    "Y = df_new['stroke']"
   ]
  },
  {
   "cell_type": "code",
   "execution_count": null,
   "id": "2b087294-b98e-4116-8828-c6816233d5fd",
   "metadata": {},
   "outputs": [],
   "source": [
    "X_train, X_test, Y_train, Y_test = train_test_split(X,Y, test_size= 0.20, random_state =42, stratify=Y)"
   ]
  },
  {
   "cell_type": "markdown",
   "id": "099d59b8-35f5-46b1-b4f8-015f6799ace9",
   "metadata": {
    "tags": []
   },
   "source": [
    "### Imbalance Data"
   ]
  },
  {
   "cell_type": "code",
   "execution_count": null,
   "id": "0dc14956-756c-4ffe-a588-d2edfd3f12c4",
   "metadata": {},
   "outputs": [],
   "source": [
    "numerical_columns = X_train.select_dtypes(exclude=['object']).columns.to_list()\n",
    "categorical_columns = X_train.select_dtypes(include=['object']).columns.to_list()\n",
    "\n",
    "column_transformer = ColumnTransformer(\n",
    "    [(\"sc\", StandardScaler(), numerical_columns),\n",
    "     (\"ohe\", OneHotEncoder(), categorical_columns)],\n",
    "    remainder=\"passthrough\"\n",
    ")\n",
    "X_train = column_transformer.fit_transform(X_train)\n",
    "X_test = column_transformer.transform(X_test)"
   ]
  },
  {
   "cell_type": "code",
   "execution_count": null,
   "id": "bf93bdd8-671b-4daf-9bdb-33536354486b",
   "metadata": {},
   "outputs": [],
   "source": [
    "X_train, Y_train = SMOTEENN(random_state=42).fit_resample(X_train, Y_train)"
   ]
  },
  {
   "cell_type": "markdown",
   "id": "400b2f4e-bbe1-44fb-b2f6-cb3580cb2af3",
   "metadata": {
    "tags": []
   },
   "source": [
    "#### Data Scaling"
   ]
  },
  {
   "cell_type": "markdown",
   "id": "607d064a-f689-4d1b-83f8-7c14b6f3b97f",
   "metadata": {},
   "source": [
    "### Modeling"
   ]
  },
  {
   "cell_type": "code",
   "execution_count": null,
   "id": "ab492e83",
   "metadata": {},
   "outputs": [],
   "source": [
    "def stack_model():\n",
    "    # define the base models\n",
    "    base_models = list()\n",
    "    base_models.append(('svc', SVC()))\n",
    "    base_models.append(('dt', DecisionTreeClassifier()))\n",
    "    base_models.append(('knn', KNeighborsClassifier()))\n",
    "    base_models.append(('NaiveBayes', GaussianNB()))\n",
    "    # define the meta model\n",
    "    meta_model = LogisticRegression()\n",
    "    # define the stacking ensemble\n",
    "    model = StackingClassifier(estimators=base_models, final_estimator=meta_model)\n",
    "    return model"
   ]
  },
  {
   "cell_type": "code",
   "execution_count": null,
   "id": "bd9e7578",
   "metadata": {},
   "outputs": [],
   "source": [
    "models = [LogisticRegression(), \n",
    "          DecisionTreeClassifier(),\n",
    "          SVC(),\n",
    "          KNeighborsClassifier(),\n",
    "          RandomForestClassifier(), \n",
    "          GradientBoostingClassifier(), \n",
    "          xgb.XGBClassifier(verbosity=0),\n",
    "          stack_model()]"
   ]
  },
  {
   "cell_type": "code",
   "execution_count": null,
   "id": "4b8814db",
   "metadata": {},
   "outputs": [],
   "source": [
    "# Change parameters here\n",
    "lr_params = {\n",
    "    \"penalty\": [\"l1\", \"l2\", \"elasticnet\", \"none\"],\n",
    "    \"C\": [-1000, -100, -10, -0.1, -0.01, 0, 0.1, 0.01, 1, 10, 100]\n",
    "}\n",
    "dt_params = {\n",
    "    \"max_depth\": list(range(6,16)),\n",
    "    \"max_features\" : [2,3,4,5,6]\n",
    "}\n",
    "svm_params = {\n",
    "    \"C\": [-1000, -100, -10, -0.1, -0.01, 0, 0.1, 0.01, 1, 10, 100],\n",
    "    \"kernel\": [\"linear\", \"poly\", \"rbf\", \"sigmoid\"]\n",
    "}\n",
    "knn_params = {\n",
    "    \"n_neighbors\": list(range(1,11)),\n",
    "    \"weights\": [\"uniform\", \"distance\"],\n",
    "}\n",
    "rf_params = {\n",
    "    \"max_depth\": list(range(6,16)), \n",
    "    \"max_features\" : [2,3,4,5,6]\n",
    "}\n",
    "gb_params = {\n",
    "    \"max_depth\": list(range(6,16)),\n",
    "    \"max_features\" : [2,3,4,5,6]\n",
    "}\n",
    "xgb_params = {\n",
    "    \"max_depth\": list(range(6,16)),\n",
    "    \"max_features\" : [2,3,4,5,6]\n",
    "}\n",
    "stack_params = {\n",
    "\n",
    "}\n",
    "model_params = []"
   ]
  },
  {
   "cell_type": "code",
   "execution_count": null,
   "id": "c982a95f",
   "metadata": {},
   "outputs": [],
   "source": [
    "def plot_multiple_roc_auc_curves(model, X, y):\n",
    "    fig, axs = plt.subplots(4, 2, figsize=(12, 8))\n",
    "    for model, ax in zip(models, axs.flatten()):\n",
    "        y_pred = model.predict(X)\n",
    "        fpr, tpr, _ = metrics.roc_curve(y, y_pred)\n",
    "        roc_auc = metrics.auc(fpr, tpr)\n",
    "        metrics.RocCurveDisplay(\n",
    "            fpr=fpr,\n",
    "            tpr=tpr,\n",
    "            roc_auc=roc_auc\n",
    "        ).plot(ax=ax)\n",
    "        ax.title.set_text(type(model).__name__)\n",
    "    plt.tight_layout()\n",
    "    plt.show()"
   ]
  },
  {
   "cell_type": "code",
   "execution_count": null,
   "id": "bfde84fa",
   "metadata": {},
   "outputs": [],
   "source": [
    "def plot_multiple_precision_recall_curves(models, X, y):\n",
    "    fig, axs = plt.subplots(4, 2, figsize=(20, 15))\n",
    "    for model, ax in zip(models, axs.flatten()):\n",
    "        y_pred = model.predict(X)\n",
    "        precision, recall, _ = metrics.precision_recall_curve(y, y_pred)\n",
    "        metrics.PrecisionRecallDisplay(\n",
    "            precision=precision,\n",
    "            recall=recall\n",
    "        ).plot(ax=ax)\n",
    "        ax.title.set_text(type(model).__name__)\n",
    "    plt.tight_layout()\n",
    "    plt.show()"
   ]
  },
  {
   "cell_type": "code",
   "execution_count": null,
   "id": "be79ff74",
   "metadata": {},
   "outputs": [],
   "source": [
    "def plot_multiple_confusion_matrixes(models, X, y):\n",
    "    fig, axs = plt.subplots(4, 2, figsize=(10, 15))\n",
    "    for model, ax in zip(models, axs.flatten()):\n",
    "        ax.xaxis.grid()\n",
    "        ax.yaxis.grid()\n",
    "        y_pred = model.predict(X)\n",
    "        cm = metrics.confusion_matrix(y, y_pred)\n",
    "        names = ['True Negative','False Positive','False Negative','True Positive']\n",
    "        counts = [value for value in cm.flatten()]\n",
    "        percentages = ['{0:.2%}'.format(value) for value in cm.flatten()/np.sum(cm)]\n",
    "        labels = [f'{v1}\\n{v2}\\n{v3}' for v1, v2, v3 in zip(names,counts,percentages)]\n",
    "        labels = np.asarray(labels).reshape(2,2)\n",
    "        sns.heatmap(cm, annot=labels, cmap=\"mako\", fmt ='', ax=ax)\n",
    "        ax.title.set_text(type(model).__name__)\n",
    "    plt.tight_layout()\n",
    "    plt.show()"
   ]
  },
  {
   "cell_type": "code",
   "execution_count": null,
   "id": "21925afe",
   "metadata": {},
   "outputs": [],
   "source": [
    "def get_model_params(model, model_params):\n",
    "    index = models.index(model)\n",
    "    return model_params[index]"
   ]
  },
  {
   "cell_type": "code",
   "execution_count": null,
   "id": "3b87f662",
   "metadata": {},
   "outputs": [],
   "source": [
    "def training_process(X_train, Y_train, models, print_process=True, plot_metric=True):\n",
    "    scores = []\n",
    "    for model in models:\n",
    "        model.fit(X_train, Y_train)\n",
    "        Y_pred = cross_val_predict(model, X_train, Y_train, cv=10)\n",
    "        _, _, score, _ = metrics.precision_recall_fscore_support(Y_train, Y_pred, average='weighted')\n",
    "        scores.append(score)\n",
    "        if print_process:\n",
    "            print(model, \" trained.\")\n",
    "            print(\"Weighted F1 score: %.2f\" % score)\n",
    "            print(\"Classification report: \\n\", metrics.classification_report(Y_train, Y_pred))\n",
    "    if plot_metric:\n",
    "        plot_multiple_confusion_matrixes(models, X_train, Y_train)\n",
    "        plot_multiple_roc_auc_curves(models, X_train, Y_train)\n",
    "        plot_multiple_precision_recall_curves(models, X_train, Y_train)\n",
    "    max_score = max(scores)\n",
    "    max_index = scores.index(max_score)\n",
    "    return models[max_index]"
   ]
  },
  {
   "cell_type": "code",
   "execution_count": null,
   "id": "08e471ef",
   "metadata": {},
   "outputs": [],
   "source": [
    "def grid_search_process(X_train, Y_train, model, model_param, print_process=True):\n",
    "    grid_search = GridSearchCV(model, model_param, scoring='f1_weighted')\n",
    "    grid_search.fit(X_train, Y_train)\n",
    "    if print_process:\n",
    "        print(\"Model after grid search: \", grid_search)\n",
    "        print(\"Best parameters: \", grid_search.best_params_)\n",
    "        print(\"Best score: %.2f\", grid_search.best_score_)\n",
    "    return grid_search"
   ]
  },
  {
   "cell_type": "code",
   "execution_count": null,
   "id": "fb08797d",
   "metadata": {},
   "outputs": [],
   "source": [
    "best_model = training_process(X_train, Y_train, models, print_process=False)\n",
    "# best_params = get_model_params(best_model, model_params)\n",
    "# best_cv_model = grid_search_process(X_train, Y_train, best_model, best_params, print_process=True)"
   ]
  },
  {
   "cell_type": "code",
   "execution_count": null,
   "id": "5047d17c",
   "metadata": {},
   "outputs": [],
   "source": [
    "Y_pred_final = best_model.predict(X_test)"
   ]
  },
  {
   "cell_type": "code",
   "execution_count": null,
   "id": "694af735",
   "metadata": {},
   "outputs": [],
   "source": [
    "cm = metrics.confusion_matrix(Y_test, Y_pred_final)\n",
    "names = ['True Negative','False Positive','False Negative','True Positive']\n",
    "counts = [value for value in cm.flatten()]\n",
    "percentages = ['{0:.2%}'.format(value) for value in cm.flatten()/np.sum(cm)]\n",
    "labels = [f'{v1}\\n{v2}\\n{v3}' for v1, v2, v3 in zip(names,counts,percentages)]\n",
    "labels = np.asarray(labels).reshape(2,2)\n",
    "sns.heatmap(cm, annot=labels, cmap=\"mako\", fmt ='')\n",
    "plt.grid(False)\n",
    "plt.title(\"Confusion matrix\")"
   ]
  },
  {
   "cell_type": "code",
   "execution_count": null,
   "id": "dab3de83",
   "metadata": {},
   "outputs": [],
   "source": [
    "fpr, tpr, _ = metrics.roc_curve(Y_test, Y_pred_final)\n",
    "roc_auc = metrics.auc(fpr, tpr)\n",
    "metrics.RocCurveDisplay(\n",
    "    fpr=fpr,\n",
    "    tpr=tpr,\n",
    "    roc_auc=roc_auc\n",
    ").plot()\n",
    "plt.title(\"ROC curve\")"
   ]
  },
  {
   "cell_type": "code",
   "execution_count": null,
   "id": "e95ead3b",
   "metadata": {},
   "outputs": [],
   "source": [
    "precision, recall, _ = metrics.precision_recall_curve(Y_test, Y_pred_final)\n",
    "metrics.PrecisionRecallDisplay(\n",
    "    precision=precision,\n",
    "    recall=recall\n",
    ").plot()\n",
    "plt.title(\"Precision-Recall curve\")"
   ]
  },
  {
   "cell_type": "markdown",
   "id": "95872971",
   "metadata": {},
   "source": [
    "# Build pipeline"
   ]
  },
  {
   "cell_type": "markdown",
   "id": "40bda454",
   "metadata": {},
   "source": [
    "## Create a pipeline"
   ]
  },
  {
   "cell_type": "code",
   "execution_count": null,
   "id": "ecfe8346",
   "metadata": {},
   "outputs": [],
   "source": [
    "class CustomPipeline():\n",
    "    def __init__(self, model):\n",
    "        self.column_transformer = ColumnTransformer(\n",
    "            [(\"sc\", StandardScaler(), numerical_columns),\n",
    "            (\"ohe\", OneHotEncoder(), categorical_columns)],\n",
    "            remainder=\"passthrough\"\n",
    "        )\n",
    "        self.smoteenn = SMOTEENN(random_state=42)\n",
    "        self.model = model\n",
    "    \n",
    "    def fit(self, X, y):\n",
    "        X = self.column_transformer.fit_transform(X)\n",
    "        X, y = self.smoteenn.fit_resample(X, y)\n",
    "        self.model.fit(X, y)\n",
    "        return self\n",
    "    \n",
    "    def predict(self, X):\n",
    "        X = self.column_transformer.transform(X)\n",
    "        return self.model.predict(X)"
   ]
  },
  {
   "cell_type": "markdown",
   "id": "625c5df5",
   "metadata": {},
   "source": [
    "## Test pipeline"
   ]
  },
  {
   "cell_type": "code",
   "execution_count": null,
   "id": "74542289",
   "metadata": {},
   "outputs": [],
   "source": [
    "X_train, X_test, Y_train, Y_test = train_test_split(X, Y, test_size=0.2, random_state=42, stratify=Y)"
   ]
  },
  {
   "cell_type": "code",
   "execution_count": null,
   "id": "78511481",
   "metadata": {},
   "outputs": [],
   "source": [
    "pipeline = CustomPipeline(best_model)\n",
    "pipeline.fit(X_train, Y_train)\n",
    "Y_pred = pipeline.predict(X_test)"
   ]
  },
  {
   "cell_type": "code",
   "execution_count": null,
   "id": "c7d5c1bb",
   "metadata": {},
   "outputs": [],
   "source": [
    "metrics.ConfusionMatrixDisplay(\n",
    "    confusion_matrix=metrics.confusion_matrix(Y_test, Y_pred_final)\n",
    ").plot()\n",
    "plt.grid(False)\n",
    "plt.title(\"Confusion matrix\")"
   ]
  },
  {
   "cell_type": "code",
   "execution_count": null,
   "id": "a3ea353e",
   "metadata": {},
   "outputs": [],
   "source": [
    "fpr, tpr, _ = metrics.roc_curve(Y_test, Y_pred_final)\n",
    "roc_auc = metrics.auc(fpr, tpr)\n",
    "metrics.RocCurveDisplay(\n",
    "    fpr=fpr,\n",
    "    tpr=tpr,\n",
    "    roc_auc=roc_auc\n",
    ").plot()\n",
    "plt.title(\"ROC curve\")"
   ]
  },
  {
   "cell_type": "code",
   "execution_count": null,
   "id": "1e3fa648",
   "metadata": {},
   "outputs": [],
   "source": [
    "precision, recall, _ = metrics.precision_recall_curve(Y_test, Y_pred_final)\n",
    "metrics.PrecisionRecallDisplay(\n",
    "    precision=precision,\n",
    "    recall=recall\n",
    ").plot()\n",
    "plt.title(\"Precision-Recall curve\")"
   ]
  },
  {
   "cell_type": "markdown",
   "id": "c1d09e05",
   "metadata": {},
   "source": [
    "# Create a pickle file"
   ]
  },
  {
   "cell_type": "code",
   "execution_count": null,
   "id": "beb011ee",
   "metadata": {},
   "outputs": [],
   "source": [
    "file_name = 'pipeline.gz'\n",
    "joblib.dump(pipeline, file_name)"
   ]
  }
 ],
 "metadata": {
  "kernelspec": {
   "display_name": "Python 3 (ipykernel)",
   "language": "python",
   "name": "python3"
  },
  "language_info": {
   "codemirror_mode": {
    "name": "ipython",
    "version": 3
   },
   "file_extension": ".py",
   "mimetype": "text/x-python",
   "name": "python",
   "nbconvert_exporter": "python",
   "pygments_lexer": "ipython3",
   "version": "3.9.13"
  },
  "vscode": {
   "interpreter": {
    "hash": "916d84045242a337a32a89ba20cac7cc4ac7a752f19c6253739882c160623381"
   }
  }
 },
 "nbformat": 4,
 "nbformat_minor": 5
}
